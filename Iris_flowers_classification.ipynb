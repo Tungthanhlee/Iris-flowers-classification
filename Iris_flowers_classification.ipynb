{
  "nbformat": 4,
  "nbformat_minor": 0,
  "metadata": {
    "colab": {
      "name": "Iris flowers classification.ipynb",
      "version": "0.3.2",
      "provenance": [],
      "collapsed_sections": [],
      "include_colab_link": true
    },
    "kernelspec": {
      "name": "python3",
      "display_name": "Python 3"
    }
  },
  "cells": [
    {
      "cell_type": "markdown",
      "metadata": {
        "id": "view-in-github",
        "colab_type": "text"
      },
      "source": [
        "<a href=\"https://colab.research.google.com/github/Tungthanhlee/Iris-flowers-classification/blob/master/Iris_flowers_classification.ipynb\" target=\"_parent\"><img src=\"https://colab.research.google.com/assets/colab-badge.svg\" alt=\"Open In Colab\"/></a>"
      ]
    },
    {
      "cell_type": "code",
      "metadata": {
        "id": "pclvAbIBWmca",
        "colab_type": "code",
        "colab": {}
      },
      "source": [
        "import pandas as pd\n",
        "import numpy as np\n",
        "import matplotlib.pyplot as plt\n",
        "%matplotlib inline\n",
        "import scipy.sparse\n",
        "import numpy as np \n",
        "import seaborn as sns\n",
        "from sklearn import metrics\n",
        "from sklearn import datasets,svm\n",
        "from sklearn.decomposition import PCA"
      ],
      "execution_count": 0,
      "outputs": []
    },
    {
      "cell_type": "markdown",
      "metadata": {
        "id": "7eqQ0O6c6Q0K",
        "colab_type": "text"
      },
      "source": [
        "# **a. Load dataset**"
      ]
    },
    {
      "cell_type": "code",
      "metadata": {
        "id": "xryp33WkW7EI",
        "colab_type": "code",
        "colab": {}
      },
      "source": [
        "%matplotlib inline\n",
        "iris = datasets.load_iris()"
      ],
      "execution_count": 0,
      "outputs": []
    },
    {
      "cell_type": "code",
      "metadata": {
        "id": "I3KJJQjLX_22",
        "colab_type": "code",
        "colab": {}
      },
      "source": [
        "from sklearn.model_selection import train_test_split\n",
        "train_img, test_img, train_lbl, test_lbl = train_test_split(\n",
        "    iris.data, iris.target, test_size=0.50, random_state=0)"
      ],
      "execution_count": 0,
      "outputs": []
    },
    {
      "cell_type": "code",
      "metadata": {
        "id": "6bNbCSQlZCE8",
        "colab_type": "code",
        "outputId": "b5e774c1-e247-44dd-82a7-403e1b3411b3",
        "colab": {
          "base_uri": "https://localhost:8080/",
          "height": 85
        }
      },
      "source": [
        "print(train_img.shape)\n",
        "print(train_lbl.shape)\n",
        "print(test_img.shape)\n",
        "print(test_lbl.shape)\n",
        "\n"
      ],
      "execution_count": 0,
      "outputs": [
        {
          "output_type": "stream",
          "text": [
            "(75, 4)\n",
            "(75,)\n",
            "(75, 4)\n",
            "(75,)\n"
          ],
          "name": "stdout"
        }
      ]
    },
    {
      "cell_type": "markdown",
      "metadata": {
        "id": "ee6-oRxx6g2u",
        "colab_type": "text"
      },
      "source": [
        "# Confusion matrix"
      ]
    },
    {
      "cell_type": "code",
      "metadata": {
        "id": "yptVk1PycW1S",
        "colab_type": "code",
        "colab": {}
      },
      "source": [
        "def draw_confusion_matrix_with_seaborn(test_label, predictions, score):\n",
        "    cm = metrics.confusion_matrix(test_lbl, predictions)\n",
        "    plt.figure(figsize=(9,9))\n",
        "    sns.heatmap(cm, annot=True, fmt=\".3f\", linewidths=.5, square = True, cmap = 'Blues_r');\n",
        "    plt.ylabel('Actual label');\n",
        "    plt.xlabel('Predicted label');\n",
        "    all_sample_title = 'Accuracy Score: {0}'.format(score)\n",
        "    plt.title(all_sample_title, size = 15);\n",
        "    plt.savefig('toy_Digits_ConfusionSeabornCodementor.png')\n",
        "    plt.show()"
      ],
      "execution_count": 0,
      "outputs": []
    },
    {
      "cell_type": "markdown",
      "metadata": {
        "id": "wnHjvUTO6onu",
        "colab_type": "text"
      },
      "source": [
        "# **b. Softmax regression**"
      ]
    },
    {
      "cell_type": "code",
      "metadata": {
        "id": "YrtRdnOnfvmv",
        "colab_type": "code",
        "colab": {}
      },
      "source": [
        "from sklearn.linear_model import LogisticRegression\n",
        "logisticRegr = LogisticRegression(solver='lbfgs', multi_class='multinomial')\n"
      ],
      "execution_count": 0,
      "outputs": []
    },
    {
      "cell_type": "code",
      "metadata": {
        "id": "n31wOPi7hfj5",
        "colab_type": "code",
        "outputId": "e3e906ac-e760-494b-9c97-3bf979a8689e",
        "colab": {
          "base_uri": "https://localhost:8080/",
          "height": 85
        }
      },
      "source": [
        "logisticRegr.fit(train_img, train_lbl)"
      ],
      "execution_count": 0,
      "outputs": [
        {
          "output_type": "execute_result",
          "data": {
            "text/plain": [
              "LogisticRegression(C=1.0, class_weight=None, dual=False, fit_intercept=True,\n",
              "          intercept_scaling=1, max_iter=100, multi_class='multinomial',\n",
              "          n_jobs=None, penalty='l2', random_state=None, solver='lbfgs',\n",
              "          tol=0.0001, verbose=0, warm_start=False)"
            ]
          },
          "metadata": {
            "tags": []
          },
          "execution_count": 19
        }
      ]
    },
    {
      "cell_type": "code",
      "metadata": {
        "id": "CcV8atT7hmnz",
        "colab_type": "code",
        "outputId": "917d4cda-b925-4afe-e7bd-50aae4853a85",
        "colab": {
          "base_uri": "https://localhost:8080/",
          "height": 34
        }
      },
      "source": [
        "logisticRegr.predict(test_img[0:10])"
      ],
      "execution_count": 0,
      "outputs": [
        {
          "output_type": "execute_result",
          "data": {
            "text/plain": [
              "array([2, 1, 0, 2, 0, 2, 0, 1, 1, 1])"
            ]
          },
          "metadata": {
            "tags": []
          },
          "execution_count": 20
        }
      ]
    },
    {
      "cell_type": "code",
      "metadata": {
        "id": "u57hQuC2iVgf",
        "colab_type": "code",
        "outputId": "7926a32a-cb9a-495d-eeed-0f36775ed9f7",
        "colab": {
          "base_uri": "https://localhost:8080/",
          "height": 34
        }
      },
      "source": [
        "softmax_predictions = logisticRegr.predict(test_img)\n",
        "softmax_score = logisticRegr.score(test_img, test_lbl)\n",
        "print(softmax_score)"
      ],
      "execution_count": 0,
      "outputs": [
        {
          "output_type": "stream",
          "text": [
            "0.9333333333333333\n"
          ],
          "name": "stdout"
        }
      ]
    },
    {
      "cell_type": "code",
      "metadata": {
        "id": "xbpOXEsriaPP",
        "colab_type": "code",
        "outputId": "623368ad-164f-440c-b9db-5c7f5979e68e",
        "colab": {
          "base_uri": "https://localhost:8080/",
          "height": 530
        }
      },
      "source": [
        "draw_confusion_matrix_with_seaborn(test_lbl, softmax_predictions, softmax_score)"
      ],
      "execution_count": 0,
      "outputs": [
        {
          "output_type": "display_data",
          "data": {
            "image/png": "[encoded data removed]",
            "text/plain": [
              "<Figure size 648x648 with 2 Axes>"
            ]
          },
          "metadata": {
            "tags": []
          }
        }
      ]
    },
    {
      "cell_type": "markdown",
      "metadata": {
        "id": "snb9vPu361K6",
        "colab_type": "text"
      },
      "source": [
        "# **c. SVM with linear kernel**"
      ]
    },
    {
      "cell_type": "code",
      "metadata": {
        "id": "zd8N_sHH_vW_",
        "colab_type": "code",
        "colab": {}
      },
      "source": [
        "from sklearn.svm import LinearSVC\n",
        "clf = LinearSVC(random_state = 0, tol = 1e-5)\n",
        "\n"
      ],
      "execution_count": 0,
      "outputs": []
    },
    {
      "cell_type": "code",
      "metadata": {
        "id": "9xJFU9CAC5QL",
        "colab_type": "code",
        "outputId": "f79c1b64-85fe-484d-b606-07fa9c53aff0",
        "colab": {
          "base_uri": "https://localhost:8080/",
          "height": 122
        }
      },
      "source": [
        "clf.fit(train_img, train_lbl)"
      ],
      "execution_count": 0,
      "outputs": [
        {
          "output_type": "stream",
          "text": [
            "/usr/local/lib/python3.6/dist-packages/sklearn/svm/base.py:931: ConvergenceWarning: Liblinear failed to converge, increase the number of iterations.\n",
            "  \"the number of iterations.\", ConvergenceWarning)\n"
          ],
          "name": "stderr"
        },
        {
          "output_type": "execute_result",
          "data": {
            "text/plain": [
              "LinearSVC(C=1.0, class_weight=None, dual=True, fit_intercept=True,\n",
              "     intercept_scaling=1, loss='squared_hinge', max_iter=1000,\n",
              "     multi_class='ovr', penalty='l2', random_state=0, tol=1e-05, verbose=0)"
            ]
          },
          "metadata": {
            "tags": []
          },
          "execution_count": 24
        }
      ]
    },
    {
      "cell_type": "code",
      "metadata": {
        "id": "MyCrRP98C5y7",
        "colab_type": "code",
        "outputId": "00bd69f2-7910-4a46-a9c6-854ca70876e7",
        "colab": {
          "base_uri": "https://localhost:8080/",
          "height": 34
        }
      },
      "source": [
        "linearSVM_prediction = clf.predict(test_img)\n",
        "linearSVM_score = clf.score(test_img, test_lbl)\n",
        "print(linearSVM_score)"
      ],
      "execution_count": 0,
      "outputs": [
        {
          "output_type": "stream",
          "text": [
            "0.92\n"
          ],
          "name": "stdout"
        }
      ]
    },
    {
      "cell_type": "code",
      "metadata": {
        "id": "R_KvpvdRDsLl",
        "colab_type": "code",
        "outputId": "b66b164e-8b62-4f64-ed8f-9b432d352250",
        "colab": {
          "base_uri": "https://localhost:8080/",
          "height": 530
        }
      },
      "source": [
        "draw_confusion_matrix_with_seaborn(test_lbl, linearSVM_prediction, linearSVM_score)"
      ],
      "execution_count": 0,
      "outputs": [
        {
          "output_type": "display_data",
          "data": {
            "image/png": "[encoded data removed]",
            "text/plain": [
              "<Figure size 648x648 with 2 Axes>"
            ]
          },
          "metadata": {
            "tags": []
          }
        }
      ]
    },
    {
      "cell_type": "markdown",
      "metadata": {
        "id": "jKhVke2l7Fez",
        "colab_type": "text"
      },
      "source": [
        "# d. SVM with *poly* kernel **bold text**"
      ]
    },
    {
      "cell_type": "code",
      "metadata": {
        "id": "3XULiGy5D6IF",
        "colab_type": "code",
        "colab": {}
      },
      "source": [
        "from sklearn.svm import SVC\n",
        "svm_poly_kernel = SVC(C=200,kernel='poly',gamma=0.01,cache_size=8000,probability=False)"
      ],
      "execution_count": 0,
      "outputs": []
    },
    {
      "cell_type": "code",
      "metadata": {
        "id": "pc1Le9mGFWko",
        "colab_type": "code",
        "outputId": "097249a5-e249-483d-ab30-bb2ebebd4594",
        "colab": {
          "base_uri": "https://localhost:8080/",
          "height": 85
        }
      },
      "source": [
        "svm_poly_kernel.fit(train_img, train_lbl)"
      ],
      "execution_count": 0,
      "outputs": [
        {
          "output_type": "execute_result",
          "data": {
            "text/plain": [
              "SVC(C=200, cache_size=8000, class_weight=None, coef0=0.0,\n",
              "  decision_function_shape='ovr', degree=3, gamma=0.01, kernel='poly',\n",
              "  max_iter=-1, probability=False, random_state=None, shrinking=True,\n",
              "  tol=0.001, verbose=False)"
            ]
          },
          "metadata": {
            "tags": []
          },
          "execution_count": 28
        }
      ]
    },
    {
      "cell_type": "code",
      "metadata": {
        "id": "sK8xGYv5Fd0X",
        "colab_type": "code",
        "outputId": "d9a4b846-52c2-4245-a857-5b0cd547494a",
        "colab": {
          "base_uri": "https://localhost:8080/",
          "height": 34
        }
      },
      "source": [
        "svm_poly_kernel_prediction = svm_poly_kernel.predict(test_img)\n",
        "svm_poly_kernel_score = svm_poly_kernel.score(test_img, test_lbl)\n",
        "print(svm_poly_kernel_score)"
      ],
      "execution_count": 0,
      "outputs": [
        {
          "output_type": "stream",
          "text": [
            "0.9333333333333333\n"
          ],
          "name": "stdout"
        }
      ]
    },
    {
      "cell_type": "code",
      "metadata": {
        "id": "MG6GEN17GD1q",
        "colab_type": "code",
        "outputId": "b83d263e-665d-41d3-b864-63a81b3bc4b6",
        "colab": {
          "base_uri": "https://localhost:8080/",
          "height": 530
        }
      },
      "source": [
        "draw_confusion_matrix_with_seaborn(test_lbl, svm_poly_kernel_prediction, svm_poly_kernel_score)"
      ],
      "execution_count": 0,
      "outputs": [
        {
          "output_type": "display_data",
          "data": {
            "image/png": "[encoded data removed]",
            "text/plain": [
              "<Figure size 648x648 with 2 Axes>"
            ]
          },
          "metadata": {
            "tags": []
          }
        }
      ]
    },
    {
      "cell_type": "markdown",
      "metadata": {
        "id": "QfCup47Q7Pv_",
        "colab_type": "text"
      },
      "source": [
        "# d. SVM with *rbf* kernel **bold text**"
      ]
    },
    {
      "cell_type": "code",
      "metadata": {
        "colab_type": "code",
        "id": "5qPnx-rF8KMo",
        "colab": {}
      },
      "source": [
        "svm_rbf_kernel = svm.SVC(kernel ='rbf', gamma = 1).fit(train_img, train_lbl)"
      ],
      "execution_count": 0,
      "outputs": []
    },
    {
      "cell_type": "code",
      "metadata": {
        "id": "8CA3r1sE7vUM",
        "colab_type": "code",
        "outputId": "f1bc9ece-c4fb-4e72-f356-48d9ed05efea",
        "colab": {
          "base_uri": "https://localhost:8080/",
          "height": 85
        }
      },
      "source": [
        "svm_rbf_kernel.fit(train_img, train_lbl)"
      ],
      "execution_count": 0,
      "outputs": [
        {
          "output_type": "execute_result",
          "data": {
            "text/plain": [
              "SVC(C=1.0, cache_size=200, class_weight=None, coef0=0.0,\n",
              "  decision_function_shape='ovr', degree=3, gamma=1, kernel='rbf',\n",
              "  max_iter=-1, probability=False, random_state=None, shrinking=True,\n",
              "  tol=0.001, verbose=False)"
            ]
          },
          "metadata": {
            "tags": []
          },
          "execution_count": 34
        }
      ]
    },
    {
      "cell_type": "code",
      "metadata": {
        "id": "UrlOGQt6yDzA",
        "colab_type": "code",
        "outputId": "df9c0496-c6c3-46af-d6af-d2dd5715eacc",
        "colab": {
          "base_uri": "https://localhost:8080/",
          "height": 34
        }
      },
      "source": [
        "svm_rbf_kernel_prediction = svm_rbf_kernel.predict(test_img)\n",
        "svm_rbf_kernel_score = svm_rbf_kernel.score(test_img, test_lbl)\n",
        "print(svm_rbf_kernel_score)"
      ],
      "execution_count": 0,
      "outputs": [
        {
          "output_type": "stream",
          "text": [
            "0.96\n"
          ],
          "name": "stdout"
        }
      ]
    },
    {
      "cell_type": "code",
      "metadata": {
        "id": "Yh1z4F-VyoeA",
        "colab_type": "code",
        "outputId": "200667f1-ba63-4ffe-96b7-24784f1c02e6",
        "colab": {
          "base_uri": "https://localhost:8080/",
          "height": 530
        }
      },
      "source": [
        "draw_confusion_matrix_with_seaborn(test_lbl, svm_rbf_kernel_prediction, svm_rbf_kernel_score)"
      ],
      "execution_count": 0,
      "outputs": [
        {
          "output_type": "display_data",
          "data": {
            "image/png": "[encoded data removed]",
            "text/plain": [
              "<Figure size 648x648 with 2 Axes>"
            ]
          },
          "metadata": {
            "tags": []
          }
        }
      ]
    },
    {
      "cell_type": "code",
      "metadata": {
        "id": "wjQlTGZ9y1zo",
        "colab_type": "code",
        "colab": {}
      },
      "source": [
        ""
      ],
      "execution_count": 0,
      "outputs": []
    }
  ]
}