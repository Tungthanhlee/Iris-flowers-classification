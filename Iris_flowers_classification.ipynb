{
  "nbformat": 4,
  "nbformat_minor": 0,
  "metadata": {
    "colab": {
      "name": "Iris flowers classification.ipynb",
      "version": "0.3.2",
      "provenance": [],
      "collapsed_sections": [],
      "include_colab_link": true
    },
    "kernelspec": {
      "name": "python3",
      "display_name": "Python 3"
    }
  },
  "cells": [
    {
      "cell_type": "markdown",
      "metadata": {
        "id": "view-in-github",
        "colab_type": "text"
      },
      "source": [
        "<a href=\"https://colab.research.google.com/github/Tungthanhlee/Iris-flowers-classification/blob/master/Iris_flowers_classification.ipynb\" target=\"_parent\"><img src=\"https://colab.research.google.com/assets/colab-badge.svg\" alt=\"Open In Colab\"/></a>"
      ]
    },
    {
      "cell_type": "code",
      "metadata": {
        "id": "pclvAbIBWmca",
        "colab_type": "code",
        "colab": {}
      },
      "source": [
        "import pandas as pd\n",
        "import numpy as np\n",
        "import matplotlib.pyplot as plt\n",
        "%matplotlib inline\n",
        "import scipy.sparse\n",
        "import numpy as np \n",
        "import seaborn as sns\n",
        "from sklearn import metrics\n",
        "from sklearn import datasets,svm\n",
        "from sklearn.decomposition import PCA"
      ],
      "execution_count": 0,
      "outputs": []
    },
    {
      "cell_type": "code",
      "metadata": {
        "id": "xryp33WkW7EI",
        "colab_type": "code",
        "colab": {}
      },
      "source": [
        "%matplotlib inline\n",
        "iris = datasets.load_iris()"
      ],
      "execution_count": 0,
      "outputs": []
    },
    {
      "cell_type": "code",
      "metadata": {
        "id": "I3KJJQjLX_22",
        "colab_type": "code",
        "colab": {}
      },
      "source": [
        "from sklearn.model_selection import train_test_split\n",
        "train_img, test_img, train_lbl, test_lbl = train_test_split(\n",
        "    iris.data, iris.target, test_size=0.20, random_state=42)"
      ],
      "execution_count": 0,
      "outputs": []
    },
    {
      "cell_type": "code",
      "metadata": {
        "id": "6bNbCSQlZCE8",
        "colab_type": "code",
        "outputId": "3b4ae599-072b-4418-ab9e-9a84a7e30b68",
        "colab": {
          "base_uri": "https://localhost:8080/",
          "height": 85
        }
      },
      "source": [
        "print(train_img.shape)\n",
        "print(train_lbl.shape)\n",
        "print(test_img.shape)\n",
        "print(test_lbl.shape)\n",
        "\n"
      ],
      "execution_count": 4,
      "outputs": [
        {
          "output_type": "stream",
          "text": [
            "(120, 4)\n",
            "(120,)\n",
            "(30, 4)\n",
            "(30,)\n"
          ],
          "name": "stdout"
        }
      ]
    },
    {
      "cell_type": "code",
      "metadata": {
        "id": "yptVk1PycW1S",
        "colab_type": "code",
        "colab": {}
      },
      "source": [
        "def draw_confusion_matrix_with_seaborn(test_label, predictions, score):\n",
        "    cm = metrics.confusion_matrix(test_lbl, predictions)\n",
        "    plt.figure(figsize=(9,9))\n",
        "    sns.heatmap(cm, annot=True, fmt=\".3f\", linewidths=.5, square = True, cmap = 'Blues_r');\n",
        "    plt.ylabel('Actual label');\n",
        "    plt.xlabel('Predicted label');\n",
        "    all_sample_title = 'Accuracy Score: {0}'.format(score)\n",
        "    plt.title(all_sample_title, size = 15);\n",
        "    plt.savefig('toy_Digits_ConfusionSeabornCodementor.png')\n",
        "    plt.show()"
      ],
      "execution_count": 0,
      "outputs": []
    },
    {
      "cell_type": "code",
      "metadata": {
        "id": "YrtRdnOnfvmv",
        "colab_type": "code",
        "colab": {}
      },
      "source": [
        "from sklearn.linear_model import LogisticRegression\n",
        "logisticRegr = LogisticRegression(solver='lbfgs', multi_class='multinomial')\n"
      ],
      "execution_count": 0,
      "outputs": []
    },
    {
      "cell_type": "code",
      "metadata": {
        "id": "n31wOPi7hfj5",
        "colab_type": "code",
        "outputId": "03a1d417-7057-44f3-d0f8-284bb9588fa4",
        "colab": {
          "base_uri": "https://localhost:8080/",
          "height": 139
        }
      },
      "source": [
        "logisticRegr.fit(train_img, train_lbl)"
      ],
      "execution_count": 7,
      "outputs": [
        {
          "output_type": "stream",
          "text": [
            "/usr/local/lib/python3.6/dist-packages/sklearn/linear_model/logistic.py:758: ConvergenceWarning: lbfgs failed to converge. Increase the number of iterations.\n",
            "  \"of iterations.\", ConvergenceWarning)\n"
          ],
          "name": "stderr"
        },
        {
          "output_type": "execute_result",
          "data": {
            "text/plain": [
              "LogisticRegression(C=1.0, class_weight=None, dual=False, fit_intercept=True,\n",
              "          intercept_scaling=1, max_iter=100, multi_class='multinomial',\n",
              "          n_jobs=None, penalty='l2', random_state=None, solver='lbfgs',\n",
              "          tol=0.0001, verbose=0, warm_start=False)"
            ]
          },
          "metadata": {
            "tags": []
          },
          "execution_count": 7
        }
      ]
    },
    {
      "cell_type": "code",
      "metadata": {
        "id": "CcV8atT7hmnz",
        "colab_type": "code",
        "outputId": "866c6bf1-c975-48a3-e5f8-905fce3efb51",
        "colab": {
          "base_uri": "https://localhost:8080/",
          "height": 34
        }
      },
      "source": [
        "logisticRegr.predict(test_img[0:10])"
      ],
      "execution_count": 8,
      "outputs": [
        {
          "output_type": "execute_result",
          "data": {
            "text/plain": [
              "array([1, 0, 2, 1, 1, 0, 1, 2, 1, 1])"
            ]
          },
          "metadata": {
            "tags": []
          },
          "execution_count": 8
        }
      ]
    },
    {
      "cell_type": "code",
      "metadata": {
        "id": "u57hQuC2iVgf",
        "colab_type": "code",
        "outputId": "e5690715-8dba-49e4-88eb-dd72de0d3398",
        "colab": {
          "base_uri": "https://localhost:8080/",
          "height": 34
        }
      },
      "source": [
        "softmax_predictions = logisticRegr.predict(test_img)\n",
        "softmax_score = logisticRegr.score(test_img, test_lbl)\n",
        "print(softmax_score)"
      ],
      "execution_count": 9,
      "outputs": [
        {
          "output_type": "stream",
          "text": [
            "1.0\n"
          ],
          "name": "stdout"
        }
      ]
    },
    {
      "cell_type": "code",
      "metadata": {
        "id": "xbpOXEsriaPP",
        "colab_type": "code",
        "outputId": "98664a7b-6653-41ec-d407-9daa92400fec",
        "colab": {
          "base_uri": "https://localhost:8080/",
          "height": 530
        }
      },
      "source": [
        "draw_confusion_matrix_with_seaborn(test_lbl, softmax_predictions, softmax_score)"
      ],
      "execution_count": 10,
      "outputs": [
        {
          "output_type": "display_data",
          "data": {
            "image/png": "[encoded data removed]",
            "text/plain": [
              "<Figure size 648x648 with 2 Axes>"
            ]
          },
          "metadata": {
            "tags": []
          }
        }
      ]
    },
    {
      "cell_type": "code",
      "metadata": {
        "id": "zd8N_sHH_vW_",
        "colab_type": "code",
        "colab": {}
      },
      "source": [
        "from sklearn.svm import LinearSVC\n",
        "clf = LinearSVC(random_state = 0, tol = 1e-5)\n",
        "\n"
      ],
      "execution_count": 0,
      "outputs": []
    },
    {
      "cell_type": "code",
      "metadata": {
        "id": "9xJFU9CAC5QL",
        "colab_type": "code",
        "outputId": "49ba77c9-cc3c-4c70-a5f0-8f1287d9d5c4",
        "colab": {
          "base_uri": "https://localhost:8080/",
          "height": 122
        }
      },
      "source": [
        "clf.fit(train_img, train_lbl)"
      ],
      "execution_count": 12,
      "outputs": [
        {
          "output_type": "stream",
          "text": [
            "/usr/local/lib/python3.6/dist-packages/sklearn/svm/base.py:931: ConvergenceWarning: Liblinear failed to converge, increase the number of iterations.\n",
            "  \"the number of iterations.\", ConvergenceWarning)\n"
          ],
          "name": "stderr"
        },
        {
          "output_type": "execute_result",
          "data": {
            "text/plain": [
              "LinearSVC(C=1.0, class_weight=None, dual=True, fit_intercept=True,\n",
              "     intercept_scaling=1, loss='squared_hinge', max_iter=1000,\n",
              "     multi_class='ovr', penalty='l2', random_state=0, tol=1e-05, verbose=0)"
            ]
          },
          "metadata": {
            "tags": []
          },
          "execution_count": 12
        }
      ]
    },
    {
      "cell_type": "code",
      "metadata": {
        "id": "MyCrRP98C5y7",
        "colab_type": "code",
        "outputId": "2ca82ae9-82ef-4c2f-b34e-fc9a2e539369",
        "colab": {
          "base_uri": "https://localhost:8080/",
          "height": 34
        }
      },
      "source": [
        "linearSVM_prediction = clf.predict(test_img)\n",
        "linearSVM_score = clf.score(test_img, test_lbl)\n",
        "print(linearSVM_score)"
      ],
      "execution_count": 13,
      "outputs": [
        {
          "output_type": "stream",
          "text": [
            "1.0\n"
          ],
          "name": "stdout"
        }
      ]
    },
    {
      "cell_type": "code",
      "metadata": {
        "id": "R_KvpvdRDsLl",
        "colab_type": "code",
        "outputId": "b5b67d6e-5ebe-4db7-9477-4792868236a3",
        "colab": {
          "base_uri": "https://localhost:8080/",
          "height": 530
        }
      },
      "source": [
        "draw_confusion_matrix_with_seaborn(test_lbl, linearSVM_prediction, linearSVM_score)"
      ],
      "execution_count": 14,
      "outputs": [
        {
          "output_type": "display_data",
          "data": {
            "image/png": "[encoded data removed]",
            "text/plain": [
              "<Figure size 648x648 with 2 Axes>"
            ]
          },
          "metadata": {
            "tags": []
          }
        }
      ]
    },
    {
      "cell_type": "code",
      "metadata": {
        "id": "3XULiGy5D6IF",
        "colab_type": "code",
        "colab": {}
      },
      "source": [
        "from sklearn.svm import SVC\n",
        "svm_poly_kernel = SVC(C=200,kernel='poly',gamma=0.01,cache_size=8000,probability=False)"
      ],
      "execution_count": 0,
      "outputs": []
    },
    {
      "cell_type": "code",
      "metadata": {
        "id": "pc1Le9mGFWko",
        "colab_type": "code",
        "outputId": "78f9f96e-428b-4e8d-c67e-3c7ca8e20eb0",
        "colab": {
          "base_uri": "https://localhost:8080/",
          "height": 85
        }
      },
      "source": [
        "svm_poly_kernel.fit(train_img, train_lbl)"
      ],
      "execution_count": 16,
      "outputs": [
        {
          "output_type": "execute_result",
          "data": {
            "text/plain": [
              "SVC(C=200, cache_size=8000, class_weight=None, coef0=0.0,\n",
              "  decision_function_shape='ovr', degree=3, gamma=0.01, kernel='poly',\n",
              "  max_iter=-1, probability=False, random_state=None, shrinking=True,\n",
              "  tol=0.001, verbose=False)"
            ]
          },
          "metadata": {
            "tags": []
          },
          "execution_count": 16
        }
      ]
    },
    {
      "cell_type": "code",
      "metadata": {
        "id": "sK8xGYv5Fd0X",
        "colab_type": "code",
        "outputId": "1724bf6d-526b-4d59-bd6c-0e0348fc8aa5",
        "colab": {
          "base_uri": "https://localhost:8080/",
          "height": 34
        }
      },
      "source": [
        "svm_poly_kernel_prediction = svm_poly_kernel.predict(test_img)\n",
        "svm_poly_kernel_score = svm_poly_kernel.score(test_img, test_lbl)\n",
        "print(svm_poly_kernel_score)"
      ],
      "execution_count": 17,
      "outputs": [
        {
          "output_type": "stream",
          "text": [
            "1.0\n"
          ],
          "name": "stdout"
        }
      ]
    },
    {
      "cell_type": "code",
      "metadata": {
        "id": "MG6GEN17GD1q",
        "colab_type": "code",
        "outputId": "4943bcb2-3113-4d45-9b64-e520485285bd",
        "colab": {
          "base_uri": "https://localhost:8080/",
          "height": 530
        }
      },
      "source": [
        "draw_confusion_matrix_with_seaborn(test_lbl, svm_poly_kernel_prediction, svm_poly_kernel_score)"
      ],
      "execution_count": 18,
      "outputs": [
        {
          "output_type": "display_data",
          "data": {
            "image/png": "[encoded data removed]",
            "text/plain": [
              "<Figure size 648x648 with 2 Axes>"
            ]
          },
          "metadata": {
            "tags": []
          }
        }
      ]
    },
    {
      "cell_type": "code",
      "metadata": {
        "id": "nHc8H6RNGWQo",
        "colab_type": "code",
        "colab": {}
      },
      "source": [
        "svm_rbf_kernel = svm.SVC(kernel ='rbf', gamma = 1).fit(train_img, train_lbl)"
      ],
      "execution_count": 0,
      "outputs": []
    },
    {
      "cell_type": "code",
      "metadata": {
        "id": "UrlOGQt6yDzA",
        "colab_type": "code",
        "colab": {
          "base_uri": "https://localhost:8080/",
          "height": 34
        },
        "outputId": "8686bdfe-92c8-4839-f990-5ded93897bb2"
      },
      "source": [
        "svm_rbf_kernel_prediction = svm_rbf_kernel.predict(test_img)\n",
        "svm_rbf_kernel_score = svm_rbf_kernel.score(test_img, test_lbl)\n",
        "print(svm_rbf_kernel_score)"
      ],
      "execution_count": 29,
      "outputs": [
        {
          "output_type": "stream",
          "text": [
            "1.0\n"
          ],
          "name": "stdout"
        }
      ]
    },
    {
      "cell_type": "code",
      "metadata": {
        "id": "Yh1z4F-VyoeA",
        "colab_type": "code",
        "colab": {
          "base_uri": "https://localhost:8080/",
          "height": 530
        },
        "outputId": "6e0291ec-6660-415a-8e48-c86408bec13d"
      },
      "source": [
        "draw_confusion_matrix_with_seaborn(test_lbl, svm_rbf_kernel_prediction, svm_rbf_kernel_score)"
      ],
      "execution_count": 30,
      "outputs": [
        {
          "output_type": "display_data",
          "data": {
            "image/png": "[encoded data removed]",
            "text/plain": [
              "<Figure size 648x648 with 2 Axes>"
            ]
          },
          "metadata": {
            "tags": []
          }
        }
      ]
    },
    {
      "cell_type": "code",
      "metadata": {
        "id": "wjQlTGZ9y1zo",
        "colab_type": "code",
        "colab": {}
      },
      "source": [
        ""
      ],
      "execution_count": 0,
      "outputs": []
    }
  ]
}